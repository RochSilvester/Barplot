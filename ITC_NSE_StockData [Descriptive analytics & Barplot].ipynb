{
 "cells": [
  {
   "cell_type": "code",
   "execution_count": 91,
   "metadata": {},
   "outputs": [],
   "source": [
    "import pandas as pd\n",
    "import matplotlib.pyplot as plt\n",
    "%matplotlib inline"
   ]
  },
  {
   "cell_type": "code",
   "execution_count": 127,
   "metadata": {},
   "outputs": [
    {
     "data": {
      "text/html": [
       "<div>\n",
       "<style scoped>\n",
       "    .dataframe tbody tr th:only-of-type {\n",
       "        vertical-align: middle;\n",
       "    }\n",
       "\n",
       "    .dataframe tbody tr th {\n",
       "        vertical-align: top;\n",
       "    }\n",
       "\n",
       "    .dataframe thead th {\n",
       "        text-align: right;\n",
       "    }\n",
       "</style>\n",
       "<table border=\"1\" class=\"dataframe\">\n",
       "  <thead>\n",
       "    <tr style=\"text-align: right;\">\n",
       "      <th></th>\n",
       "      <th>Symbol</th>\n",
       "      <th>Series</th>\n",
       "      <th>Date</th>\n",
       "      <th>PrevClose</th>\n",
       "      <th>OpenPrice</th>\n",
       "      <th>HighPrice</th>\n",
       "      <th>LowPrice</th>\n",
       "      <th>LastPrice</th>\n",
       "      <th>ClosePrice</th>\n",
       "      <th>AveragePrice</th>\n",
       "      <th>TotalTradedQuantity</th>\n",
       "      <th>Turnover</th>\n",
       "      <th>NoofTrades</th>\n",
       "    </tr>\n",
       "  </thead>\n",
       "  <tbody>\n",
       "    <tr>\n",
       "      <td>0</td>\n",
       "      <td>ITC</td>\n",
       "      <td>EQ</td>\n",
       "      <td>2019-08-23</td>\n",
       "      <td>240.05</td>\n",
       "      <td>239.00</td>\n",
       "      <td>239.45</td>\n",
       "      <td>234.65</td>\n",
       "      <td>236.45</td>\n",
       "      <td>236.10</td>\n",
       "      <td>236.55</td>\n",
       "      <td>16440329</td>\n",
       "      <td>3.888935e+09</td>\n",
       "      <td>166327</td>\n",
       "    </tr>\n",
       "    <tr>\n",
       "      <td>1</td>\n",
       "      <td>ITC</td>\n",
       "      <td>EQ</td>\n",
       "      <td>2019-08-26</td>\n",
       "      <td>236.10</td>\n",
       "      <td>240.70</td>\n",
       "      <td>243.45</td>\n",
       "      <td>234.95</td>\n",
       "      <td>242.00</td>\n",
       "      <td>242.50</td>\n",
       "      <td>240.73</td>\n",
       "      <td>12857092</td>\n",
       "      <td>3.095032e+09</td>\n",
       "      <td>125210</td>\n",
       "    </tr>\n",
       "    <tr>\n",
       "      <td>2</td>\n",
       "      <td>ITC</td>\n",
       "      <td>EQ</td>\n",
       "      <td>2019-08-27</td>\n",
       "      <td>242.50</td>\n",
       "      <td>243.95</td>\n",
       "      <td>246.30</td>\n",
       "      <td>242.70</td>\n",
       "      <td>246.00</td>\n",
       "      <td>245.50</td>\n",
       "      <td>245.22</td>\n",
       "      <td>14529777</td>\n",
       "      <td>3.562961e+09</td>\n",
       "      <td>186669</td>\n",
       "    </tr>\n",
       "    <tr>\n",
       "      <td>3</td>\n",
       "      <td>ITC</td>\n",
       "      <td>EQ</td>\n",
       "      <td>2019-08-28</td>\n",
       "      <td>245.50</td>\n",
       "      <td>246.15</td>\n",
       "      <td>247.65</td>\n",
       "      <td>243.10</td>\n",
       "      <td>245.60</td>\n",
       "      <td>245.95</td>\n",
       "      <td>245.55</td>\n",
       "      <td>8894489</td>\n",
       "      <td>2.184017e+09</td>\n",
       "      <td>113351</td>\n",
       "    </tr>\n",
       "    <tr>\n",
       "      <td>4</td>\n",
       "      <td>ITC</td>\n",
       "      <td>EQ</td>\n",
       "      <td>2019-08-29</td>\n",
       "      <td>245.95</td>\n",
       "      <td>243.95</td>\n",
       "      <td>245.45</td>\n",
       "      <td>240.15</td>\n",
       "      <td>241.65</td>\n",
       "      <td>241.20</td>\n",
       "      <td>242.37</td>\n",
       "      <td>11105245</td>\n",
       "      <td>2.691538e+09</td>\n",
       "      <td>90760</td>\n",
       "    </tr>\n",
       "  </tbody>\n",
       "</table>\n",
       "</div>"
      ],
      "text/plain": [
       "  Symbol Series       Date  PrevClose  OpenPrice  HighPrice  LowPrice  \\\n",
       "0    ITC     EQ 2019-08-23     240.05     239.00     239.45    234.65   \n",
       "1    ITC     EQ 2019-08-26     236.10     240.70     243.45    234.95   \n",
       "2    ITC     EQ 2019-08-27     242.50     243.95     246.30    242.70   \n",
       "3    ITC     EQ 2019-08-28     245.50     246.15     247.65    243.10   \n",
       "4    ITC     EQ 2019-08-29     245.95     243.95     245.45    240.15   \n",
       "\n",
       "   LastPrice  ClosePrice  AveragePrice  TotalTradedQuantity      Turnover  \\\n",
       "0     236.45      236.10        236.55             16440329  3.888935e+09   \n",
       "1     242.00      242.50        240.73             12857092  3.095032e+09   \n",
       "2     246.00      245.50        245.22             14529777  3.562961e+09   \n",
       "3     245.60      245.95        245.55              8894489  2.184017e+09   \n",
       "4     241.65      241.20        242.37             11105245  2.691538e+09   \n",
       "\n",
       "   NoofTrades  \n",
       "0      166327  \n",
       "1      125210  \n",
       "2      186669  \n",
       "3      113351  \n",
       "4       90760  "
      ]
     },
     "execution_count": 127,
     "metadata": {},
     "output_type": "execute_result"
    }
   ],
   "source": [
    "xl_file = pd.ExcelFile('C:/Users/SILVESTER/Desktop/BABI-Descriptive Analytics-WorkBook.xlsx')\n",
    "\n",
    "ITC_NSE_StockData.head()"
   ]
  },
  {
   "cell_type": "markdown",
   "metadata": {},
   "source": [
    "# since there are problem occuring while importing objects with space so I removed and merged them in excel sheet\n",
    "\n",
    "## imported sheet name as dataframe [ITC_NSE_StockData]"
   ]
  },
  {
   "cell_type": "code",
   "execution_count": 128,
   "metadata": {},
   "outputs": [
    {
     "data": {
      "text/plain": [
       "Index(['Symbol', 'Series', 'Date', 'PrevClose', 'OpenPrice', 'HighPrice',\n",
       "       'LowPrice', 'LastPrice', 'ClosePrice', 'AveragePrice',\n",
       "       'TotalTradedQuantity', 'Turnover', 'NoofTrades'],\n",
       "      dtype='object')"
      ]
     },
     "execution_count": 128,
     "metadata": {},
     "output_type": "execute_result"
    }
   ],
   "source": [
    "ITC_NSE_StockData.columns"
   ]
  },
  {
   "cell_type": "code",
   "execution_count": 129,
   "metadata": {},
   "outputs": [
    {
     "name": "stdout",
     "output_type": "stream",
     "text": [
      "<class 'pandas.core.frame.DataFrame'>\n",
      "RangeIndex: 248 entries, 0 to 247\n",
      "Data columns (total 13 columns):\n",
      "Symbol                 248 non-null object\n",
      "Series                 248 non-null object\n",
      "Date                   248 non-null datetime64[ns]\n",
      "PrevClose              248 non-null float64\n",
      "OpenPrice              248 non-null float64\n",
      "HighPrice              248 non-null float64\n",
      "LowPrice               248 non-null float64\n",
      "LastPrice              248 non-null float64\n",
      "ClosePrice             248 non-null float64\n",
      "AveragePrice           248 non-null float64\n",
      "TotalTradedQuantity    248 non-null int64\n",
      "Turnover               248 non-null float64\n",
      "NoofTrades             248 non-null int64\n",
      "dtypes: datetime64[ns](1), float64(8), int64(2), object(2)\n",
      "memory usage: 25.3+ KB\n"
     ]
    }
   ],
   "source": [
    "ITC_NSE_StockData.info()"
   ]
  },
  {
   "cell_type": "markdown",
   "metadata": {},
   "source": [
    "# calculating mean , median , mode for data set using command as 'describe'"
   ]
  },
  {
   "cell_type": "code",
   "execution_count": 130,
   "metadata": {},
   "outputs": [
    {
     "data": {
      "text/plain": [
       "count    248.000000\n",
       "mean     213.858871\n",
       "std       31.607976\n",
       "min      147.250000\n",
       "25%      192.075000\n",
       "50%      207.075000\n",
       "75%      243.162500\n",
       "max      298.900000\n",
       "Name: PrevClose, dtype: float64"
      ]
     },
     "execution_count": 130,
     "metadata": {},
     "output_type": "execute_result"
    }
   ],
   "source": [
    "ITC_NSE_StockData.PrevClose.describe()"
   ]
  },
  {
   "cell_type": "code",
   "execution_count": 102,
   "metadata": {},
   "outputs": [
    {
     "data": {
      "text/plain": [
       "count    248.000000\n",
       "mean     214.232056\n",
       "std       31.327010\n",
       "min      148.000000\n",
       "25%      192.212500\n",
       "50%      207.000000\n",
       "75%      243.037500\n",
       "max      264.850000\n",
       "Name: OpenPrice, dtype: float64"
      ]
     },
     "execution_count": 102,
     "metadata": {},
     "output_type": "execute_result"
    }
   ],
   "source": [
    "ITC_NSE_StockData.OpenPrice.describe()"
   ]
  },
  {
   "cell_type": "code",
   "execution_count": 103,
   "metadata": {},
   "outputs": [
    {
     "data": {
      "text/plain": [
       "count    248.000000\n",
       "mean     216.747782\n",
       "std       30.704742\n",
       "min      152.000000\n",
       "25%      194.500000\n",
       "50%      208.525000\n",
       "75%      245.187500\n",
       "max      266.300000\n",
       "Name: HighPrice, dtype: float64"
      ]
     },
     "execution_count": 103,
     "metadata": {},
     "output_type": "execute_result"
    }
   ],
   "source": [
    "ITC_NSE_StockData.HighPrice.describe()"
   ]
  },
  {
   "cell_type": "code",
   "execution_count": 104,
   "metadata": {},
   "outputs": [
    {
     "data": {
      "text/plain": [
       "count    248.000000\n",
       "mean     210.947379\n",
       "std       32.190633\n",
       "min      134.600000\n",
       "25%      187.837500\n",
       "50%      203.925000\n",
       "75%      240.737500\n",
       "max      262.000000\n",
       "Name: LowPrice, dtype: float64"
      ]
     },
     "execution_count": 104,
     "metadata": {},
     "output_type": "execute_result"
    }
   ],
   "source": [
    "ITC_NSE_StockData.LowPrice.describe()"
   ]
  },
  {
   "cell_type": "code",
   "execution_count": 105,
   "metadata": {},
   "outputs": [
    {
     "data": {
      "text/plain": [
       "count    248.000000\n",
       "mean     213.578629\n",
       "std       31.137857\n",
       "min      147.050000\n",
       "25%      192.250000\n",
       "50%      206.725000\n",
       "75%      242.475000\n",
       "max      265.950000\n",
       "Name: LastPrice, dtype: float64"
      ]
     },
     "execution_count": 105,
     "metadata": {},
     "output_type": "execute_result"
    }
   ],
   "source": [
    "ITC_NSE_StockData.LastPrice.describe()"
   ]
  },
  {
   "cell_type": "code",
   "execution_count": 106,
   "metadata": {},
   "outputs": [
    {
     "data": {
      "text/plain": [
       "count    248.000000\n",
       "mean     213.511492\n",
       "std       31.229063\n",
       "min      147.250000\n",
       "25%      192.075000\n",
       "50%      206.275000\n",
       "75%      243.162500\n",
       "max      265.850000\n",
       "Name: ClosePrice, dtype: float64"
      ]
     },
     "execution_count": 106,
     "metadata": {},
     "output_type": "execute_result"
    }
   ],
   "source": [
    "ITC_NSE_StockData.ClosePrice.describe()"
   ]
  },
  {
   "cell_type": "code",
   "execution_count": 107,
   "metadata": {},
   "outputs": [
    {
     "data": {
      "text/plain": [
       "count    248.000000\n",
       "mean     213.802540\n",
       "std       31.425788\n",
       "min      143.990000\n",
       "25%      191.932500\n",
       "50%      205.800000\n",
       "75%      242.547500\n",
       "max      264.760000\n",
       "Name: AveragePrice, dtype: float64"
      ]
     },
     "execution_count": 107,
     "metadata": {},
     "output_type": "execute_result"
    }
   ],
   "source": [
    "ITC_NSE_StockData.AveragePrice.describe()"
   ]
  },
  {
   "cell_type": "code",
   "execution_count": 108,
   "metadata": {},
   "outputs": [
    {
     "data": {
      "text/plain": [
       "count    2.480000e+02\n",
       "mean     2.252314e+07\n",
       "std      1.600315e+07\n",
       "min      1.138578e+06\n",
       "25%      1.176445e+07\n",
       "50%      1.785843e+07\n",
       "75%      2.745079e+07\n",
       "max      9.150465e+07\n",
       "Name: TotalTradedQuantity, dtype: float64"
      ]
     },
     "execution_count": 108,
     "metadata": {},
     "output_type": "execute_result"
    }
   ],
   "source": [
    "ITC_NSE_StockData.TotalTradedQuantity.describe()"
   ]
  },
  {
   "cell_type": "code",
   "execution_count": 109,
   "metadata": {},
   "outputs": [
    {
     "data": {
      "text/plain": [
       "count    2.480000e+02\n",
       "mean     4.539568e+09\n",
       "std      2.882486e+09\n",
       "min      2.914760e+08\n",
       "25%      2.623911e+09\n",
       "50%      3.689488e+09\n",
       "75%      5.286237e+09\n",
       "max      1.817172e+10\n",
       "Name: Turnover, dtype: float64"
      ]
     },
     "execution_count": 109,
     "metadata": {},
     "output_type": "execute_result"
    }
   ],
   "source": [
    "ITC_NSE_StockData.Turnover.describe()"
   ]
  },
  {
   "cell_type": "markdown",
   "metadata": {},
   "source": [
    "# importing boxplot\n",
    "\n",
    "## i have used 'showmeans = True' in order to show seperately mean and median "
   ]
  },
  {
   "cell_type": "code",
   "execution_count": 131,
   "metadata": {},
   "outputs": [
    {
     "data": {
      "image/png": "[encoded data removed]",
      "text/plain": [
       "<Figure size 432x288 with 1 Axes>"
      ]
     },
     "metadata": {
      "needs_background": "light"
     },
     "output_type": "display_data"
    }
   ],
   "source": [
    "plt.boxplot(ITC_NSE_StockData['PrevClose'],showmeans=True);"
   ]
  },
  {
   "cell_type": "code",
   "execution_count": 132,
   "metadata": {},
   "outputs": [
    {
     "data": {
      "image/png": "[encoded data removed]",
      "text/plain": [
       "<Figure size 432x288 with 1 Axes>"
      ]
     },
     "metadata": {
      "needs_background": "light"
     },
     "output_type": "display_data"
    }
   ],
   "source": [
    "plt.boxplot(ITC_NSE_StockData['OpenPrice'],showmeans=True);"
   ]
  },
  {
   "cell_type": "code",
   "execution_count": 133,
   "metadata": {},
   "outputs": [
    {
     "data": {
      "image/png": "[encoded data removed]",
      "text/plain": [
       "<Figure size 432x288 with 1 Axes>"
      ]
     },
     "metadata": {
      "needs_background": "light"
     },
     "output_type": "display_data"
    }
   ],
   "source": [
    "plt.boxplot(ITC_NSE_StockData['HighPrice'],showmeans=True);"
   ]
  },
  {
   "cell_type": "code",
   "execution_count": 134,
   "metadata": {},
   "outputs": [
    {
     "data": {
      "image/png": "[encoded data removed]",
      "text/plain": [
       "<Figure size 432x288 with 1 Axes>"
      ]
     },
     "metadata": {
      "needs_background": "light"
     },
     "output_type": "display_data"
    }
   ],
   "source": [
    "plt.boxplot(ITC_NSE_StockData['LowPrice'],showmeans=True);"
   ]
  },
  {
   "cell_type": "code",
   "execution_count": 135,
   "metadata": {},
   "outputs": [
    {
     "data": {
      "image/png": "[encoded data removed]",
      "text/plain": [
       "<Figure size 432x288 with 1 Axes>"
      ]
     },
     "metadata": {
      "needs_background": "light"
     },
     "output_type": "display_data"
    }
   ],
   "source": [
    "plt.boxplot(ITC_NSE_StockData['LastPrice'],showmeans=True);"
   ]
  },
  {
   "cell_type": "code",
   "execution_count": 136,
   "metadata": {},
   "outputs": [
    {
     "data": {
      "image/png": "[encoded data removed]",
      "text/plain": [
       "<Figure size 432x288 with 1 Axes>"
      ]
     },
     "metadata": {
      "needs_background": "light"
     },
     "output_type": "display_data"
    }
   ],
   "source": [
    "plt.boxplot(ITC_NSE_StockData['ClosePrice'],showmeans=True);"
   ]
  },
  {
   "cell_type": "code",
   "execution_count": 137,
   "metadata": {},
   "outputs": [
    {
     "data": {
      "image/png": "[encoded data removed]",
      "text/plain": [
       "<Figure size 432x288 with 1 Axes>"
      ]
     },
     "metadata": {
      "needs_background": "light"
     },
     "output_type": "display_data"
    }
   ],
   "source": [
    "plt.boxplot(ITC_NSE_StockData['AveragePrice'],showmeans=True);"
   ]
  },
  {
   "cell_type": "code",
   "execution_count": 144,
   "metadata": {},
   "outputs": [
    {
     "data": {
      "image/png": "[encoded data removed]",
      "text/plain": [
       "<Figure size 432x288 with 1 Axes>"
      ]
     },
     "metadata": {
      "needs_background": "light"
     },
     "output_type": "display_data"
    }
   ],
   "source": [
    "plt.boxplot(ITC_NSE_StockData['TotalTradedQuantity'],showmeans=True);"
   ]
  },
  {
   "cell_type": "markdown",
   "metadata": {},
   "source": [
    "# In order to remove the outlayers \n",
    "### i have used '  'sym=' ' (none) to see it clearly"
   ]
  },
  {
   "cell_type": "code",
   "execution_count": 141,
   "metadata": {},
   "outputs": [
    {
     "data": {
      "image/png": "[encoded data removed]",
      "text/plain": [
       "<Figure size 432x288 with 1 Axes>"
      ]
     },
     "metadata": {
      "needs_background": "light"
     },
     "output_type": "display_data"
    }
   ],
   "source": [
    "plt.boxplot(ITC_NSE_StockData['TotalTradedQuantity'],showmeans=True,sym='');"
   ]
  },
  {
   "cell_type": "code",
   "execution_count": 142,
   "metadata": {},
   "outputs": [
    {
     "data": {
      "image/png": "[encoded data removed]",
      "text/plain": [
       "<Figure size 432x288 with 1 Axes>"
      ]
     },
     "metadata": {
      "needs_background": "light"
     },
     "output_type": "display_data"
    }
   ],
   "source": [
    "plt.boxplot(ITC_NSE_StockData['Turnover'],showmeans=True,sym='');"
   ]
  },
  {
   "cell_type": "code",
   "execution_count": 143,
   "metadata": {},
   "outputs": [
    {
     "data": {
      "image/png": "[encoded data removed]",
      "text/plain": [
       "<Figure size 432x288 with 1 Axes>"
      ]
     },
     "metadata": {
      "needs_background": "light"
     },
     "output_type": "display_data"
    }
   ],
   "source": [
    "plt.boxplot(ITC_NSE_StockData['NoofTrades'],showmeans=True,sym='');"
   ]
  },
  {
   "cell_type": "markdown",
   "metadata": {},
   "source": [
    "# End code"
   ]
  },
  {
   "cell_type": "code",
   "execution_count": null,
   "metadata": {},
   "outputs": [],
   "source": []
  }
 ],
 "metadata": {
  "kernelspec": {
   "display_name": "Python 3",
   "language": "python",
   "name": "python3"
  },
  "language_info": {
   "codemirror_mode": {
    "name": "ipython",
    "version": 3
   },
   "file_extension": ".py",
   "mimetype": "text/x-python",
   "name": "python",
   "nbconvert_exporter": "python",
   "pygments_lexer": "ipython3",
   "version": "3.7.4"
  }
 },
 "nbformat": 4,
 "nbformat_minor": 2
}
